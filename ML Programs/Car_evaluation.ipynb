{
 "cells": [
  {
   "cell_type": "code",
   "execution_count": 66,
   "id": "0eecc815",
   "metadata": {},
   "outputs": [],
   "source": [
    "import pandas as pd\n",
    "import numpy as np\n",
    "from sklearn import tree\n",
    "from sklearn.model_selection import train_test_split\n",
    "from sklearn.tree import DecisionTreeClassifier\n",
    "import sklearn.metrics\n",
    "from sklearn import preprocessing\n",
    "from sklearn.preprocessing import LabelEncoder\n",
    "from sklearn.metrics import accuracy_score\n",
    "import matplotlib.pyplot as plt # data visualization\n",
    "import seaborn as sns # statistical data visualization\n",
    "%matplotlib inline"
   ]
  },
  {
   "cell_type": "code",
   "execution_count": 49,
   "id": "64ba3d27",
   "metadata": {},
   "outputs": [
    {
     "data": {
      "text/html": [
       "<div>\n",
       "<style scoped>\n",
       "    .dataframe tbody tr th:only-of-type {\n",
       "        vertical-align: middle;\n",
       "    }\n",
       "\n",
       "    .dataframe tbody tr th {\n",
       "        vertical-align: top;\n",
       "    }\n",
       "\n",
       "    .dataframe thead th {\n",
       "        text-align: right;\n",
       "    }\n",
       "</style>\n",
       "<table border=\"1\" class=\"dataframe\">\n",
       "  <thead>\n",
       "    <tr style=\"text-align: right;\">\n",
       "      <th></th>\n",
       "      <th>buying</th>\n",
       "      <th>maint</th>\n",
       "      <th>doors</th>\n",
       "      <th>persons</th>\n",
       "      <th>lug_boot</th>\n",
       "      <th>safety</th>\n",
       "      <th>class</th>\n",
       "    </tr>\n",
       "  </thead>\n",
       "  <tbody>\n",
       "    <tr>\n",
       "      <th>0</th>\n",
       "      <td>vhigh</td>\n",
       "      <td>vhigh</td>\n",
       "      <td>2</td>\n",
       "      <td>2</td>\n",
       "      <td>small</td>\n",
       "      <td>low</td>\n",
       "      <td>unacc</td>\n",
       "    </tr>\n",
       "    <tr>\n",
       "      <th>1</th>\n",
       "      <td>vhigh</td>\n",
       "      <td>vhigh</td>\n",
       "      <td>2</td>\n",
       "      <td>2</td>\n",
       "      <td>small</td>\n",
       "      <td>med</td>\n",
       "      <td>unacc</td>\n",
       "    </tr>\n",
       "    <tr>\n",
       "      <th>2</th>\n",
       "      <td>vhigh</td>\n",
       "      <td>vhigh</td>\n",
       "      <td>2</td>\n",
       "      <td>2</td>\n",
       "      <td>small</td>\n",
       "      <td>high</td>\n",
       "      <td>unacc</td>\n",
       "    </tr>\n",
       "    <tr>\n",
       "      <th>3</th>\n",
       "      <td>vhigh</td>\n",
       "      <td>vhigh</td>\n",
       "      <td>2</td>\n",
       "      <td>2</td>\n",
       "      <td>med</td>\n",
       "      <td>low</td>\n",
       "      <td>unacc</td>\n",
       "    </tr>\n",
       "    <tr>\n",
       "      <th>4</th>\n",
       "      <td>vhigh</td>\n",
       "      <td>vhigh</td>\n",
       "      <td>2</td>\n",
       "      <td>2</td>\n",
       "      <td>med</td>\n",
       "      <td>med</td>\n",
       "      <td>unacc</td>\n",
       "    </tr>\n",
       "    <tr>\n",
       "      <th>...</th>\n",
       "      <td>...</td>\n",
       "      <td>...</td>\n",
       "      <td>...</td>\n",
       "      <td>...</td>\n",
       "      <td>...</td>\n",
       "      <td>...</td>\n",
       "      <td>...</td>\n",
       "    </tr>\n",
       "    <tr>\n",
       "      <th>1723</th>\n",
       "      <td>low</td>\n",
       "      <td>low</td>\n",
       "      <td>5more</td>\n",
       "      <td>more</td>\n",
       "      <td>med</td>\n",
       "      <td>med</td>\n",
       "      <td>good</td>\n",
       "    </tr>\n",
       "    <tr>\n",
       "      <th>1724</th>\n",
       "      <td>low</td>\n",
       "      <td>low</td>\n",
       "      <td>5more</td>\n",
       "      <td>more</td>\n",
       "      <td>med</td>\n",
       "      <td>high</td>\n",
       "      <td>vgood</td>\n",
       "    </tr>\n",
       "    <tr>\n",
       "      <th>1725</th>\n",
       "      <td>low</td>\n",
       "      <td>low</td>\n",
       "      <td>5more</td>\n",
       "      <td>more</td>\n",
       "      <td>big</td>\n",
       "      <td>low</td>\n",
       "      <td>unacc</td>\n",
       "    </tr>\n",
       "    <tr>\n",
       "      <th>1726</th>\n",
       "      <td>low</td>\n",
       "      <td>low</td>\n",
       "      <td>5more</td>\n",
       "      <td>more</td>\n",
       "      <td>big</td>\n",
       "      <td>med</td>\n",
       "      <td>good</td>\n",
       "    </tr>\n",
       "    <tr>\n",
       "      <th>1727</th>\n",
       "      <td>low</td>\n",
       "      <td>low</td>\n",
       "      <td>5more</td>\n",
       "      <td>more</td>\n",
       "      <td>big</td>\n",
       "      <td>high</td>\n",
       "      <td>vgood</td>\n",
       "    </tr>\n",
       "  </tbody>\n",
       "</table>\n",
       "<p>1728 rows × 7 columns</p>\n",
       "</div>"
      ],
      "text/plain": [
       "     buying  maint  doors persons lug_boot safety  class\n",
       "0     vhigh  vhigh      2       2    small    low  unacc\n",
       "1     vhigh  vhigh      2       2    small    med  unacc\n",
       "2     vhigh  vhigh      2       2    small   high  unacc\n",
       "3     vhigh  vhigh      2       2      med    low  unacc\n",
       "4     vhigh  vhigh      2       2      med    med  unacc\n",
       "...     ...    ...    ...     ...      ...    ...    ...\n",
       "1723    low    low  5more    more      med    med   good\n",
       "1724    low    low  5more    more      med   high  vgood\n",
       "1725    low    low  5more    more      big    low  unacc\n",
       "1726    low    low  5more    more      big    med   good\n",
       "1727    low    low  5more    more      big   high  vgood\n",
       "\n",
       "[1728 rows x 7 columns]"
      ]
     },
     "execution_count": 49,
     "metadata": {},
     "output_type": "execute_result"
    }
   ],
   "source": [
    "df = pd.read_csv(r'C:\\Users\\DELL\\Downloads\\car_evaluation.csv')\n",
    "df"
   ]
  },
  {
   "cell_type": "code",
   "execution_count": 50,
   "id": "c270506b",
   "metadata": {},
   "outputs": [
    {
     "data": {
      "text/html": [
       "<div>\n",
       "<style scoped>\n",
       "    .dataframe tbody tr th:only-of-type {\n",
       "        vertical-align: middle;\n",
       "    }\n",
       "\n",
       "    .dataframe tbody tr th {\n",
       "        vertical-align: top;\n",
       "    }\n",
       "\n",
       "    .dataframe thead th {\n",
       "        text-align: right;\n",
       "    }\n",
       "</style>\n",
       "<table border=\"1\" class=\"dataframe\">\n",
       "  <thead>\n",
       "    <tr style=\"text-align: right;\">\n",
       "      <th></th>\n",
       "      <th>buying</th>\n",
       "      <th>maint</th>\n",
       "      <th>doors</th>\n",
       "      <th>persons</th>\n",
       "      <th>lug_boot</th>\n",
       "      <th>safety</th>\n",
       "      <th>class</th>\n",
       "    </tr>\n",
       "  </thead>\n",
       "  <tbody>\n",
       "    <tr>\n",
       "      <th>0</th>\n",
       "      <td>3</td>\n",
       "      <td>3</td>\n",
       "      <td>0</td>\n",
       "      <td>0</td>\n",
       "      <td>2</td>\n",
       "      <td>1</td>\n",
       "      <td>2</td>\n",
       "    </tr>\n",
       "    <tr>\n",
       "      <th>1</th>\n",
       "      <td>3</td>\n",
       "      <td>3</td>\n",
       "      <td>0</td>\n",
       "      <td>0</td>\n",
       "      <td>2</td>\n",
       "      <td>2</td>\n",
       "      <td>2</td>\n",
       "    </tr>\n",
       "    <tr>\n",
       "      <th>2</th>\n",
       "      <td>3</td>\n",
       "      <td>3</td>\n",
       "      <td>0</td>\n",
       "      <td>0</td>\n",
       "      <td>2</td>\n",
       "      <td>0</td>\n",
       "      <td>2</td>\n",
       "    </tr>\n",
       "    <tr>\n",
       "      <th>3</th>\n",
       "      <td>3</td>\n",
       "      <td>3</td>\n",
       "      <td>0</td>\n",
       "      <td>0</td>\n",
       "      <td>1</td>\n",
       "      <td>1</td>\n",
       "      <td>2</td>\n",
       "    </tr>\n",
       "    <tr>\n",
       "      <th>4</th>\n",
       "      <td>3</td>\n",
       "      <td>3</td>\n",
       "      <td>0</td>\n",
       "      <td>0</td>\n",
       "      <td>1</td>\n",
       "      <td>2</td>\n",
       "      <td>2</td>\n",
       "    </tr>\n",
       "    <tr>\n",
       "      <th>...</th>\n",
       "      <td>...</td>\n",
       "      <td>...</td>\n",
       "      <td>...</td>\n",
       "      <td>...</td>\n",
       "      <td>...</td>\n",
       "      <td>...</td>\n",
       "      <td>...</td>\n",
       "    </tr>\n",
       "    <tr>\n",
       "      <th>1723</th>\n",
       "      <td>1</td>\n",
       "      <td>1</td>\n",
       "      <td>3</td>\n",
       "      <td>2</td>\n",
       "      <td>1</td>\n",
       "      <td>2</td>\n",
       "      <td>1</td>\n",
       "    </tr>\n",
       "    <tr>\n",
       "      <th>1724</th>\n",
       "      <td>1</td>\n",
       "      <td>1</td>\n",
       "      <td>3</td>\n",
       "      <td>2</td>\n",
       "      <td>1</td>\n",
       "      <td>0</td>\n",
       "      <td>3</td>\n",
       "    </tr>\n",
       "    <tr>\n",
       "      <th>1725</th>\n",
       "      <td>1</td>\n",
       "      <td>1</td>\n",
       "      <td>3</td>\n",
       "      <td>2</td>\n",
       "      <td>0</td>\n",
       "      <td>1</td>\n",
       "      <td>2</td>\n",
       "    </tr>\n",
       "    <tr>\n",
       "      <th>1726</th>\n",
       "      <td>1</td>\n",
       "      <td>1</td>\n",
       "      <td>3</td>\n",
       "      <td>2</td>\n",
       "      <td>0</td>\n",
       "      <td>2</td>\n",
       "      <td>1</td>\n",
       "    </tr>\n",
       "    <tr>\n",
       "      <th>1727</th>\n",
       "      <td>1</td>\n",
       "      <td>1</td>\n",
       "      <td>3</td>\n",
       "      <td>2</td>\n",
       "      <td>0</td>\n",
       "      <td>0</td>\n",
       "      <td>3</td>\n",
       "    </tr>\n",
       "  </tbody>\n",
       "</table>\n",
       "<p>1728 rows × 7 columns</p>\n",
       "</div>"
      ],
      "text/plain": [
       "      buying  maint  doors  persons  lug_boot  safety  class\n",
       "0          3      3      0        0         2       1      2\n",
       "1          3      3      0        0         2       2      2\n",
       "2          3      3      0        0         2       0      2\n",
       "3          3      3      0        0         1       1      2\n",
       "4          3      3      0        0         1       2      2\n",
       "...      ...    ...    ...      ...       ...     ...    ...\n",
       "1723       1      1      3        2         1       2      1\n",
       "1724       1      1      3        2         1       0      3\n",
       "1725       1      1      3        2         0       1      2\n",
       "1726       1      1      3        2         0       2      1\n",
       "1727       1      1      3        2         0       0      3\n",
       "\n",
       "[1728 rows x 7 columns]"
      ]
     },
     "execution_count": 50,
     "metadata": {},
     "output_type": "execute_result"
    }
   ],
   "source": [
    "enc = LabelEncoder()\n",
    "df_num_cat = pd.DataFrame()\n",
    "\n",
    "df_num_cat['buying'] = enc.fit_transform(df['buying'])\n",
    "df_num_cat['maint'] = enc.fit_transform(df['maint'])\n",
    "df_num_cat['doors'] = enc.fit_transform(df['doors'])\n",
    "df_num_cat['persons'] = enc.fit_transform(df['persons'])\n",
    "df_num_cat['lug_boot'] = enc.fit_transform(df['lug_boot'])\n",
    "df_num_cat['safety'] = enc.fit_transform(df['safety'])\n",
    "df_num_cat['class'] = enc.fit_transform(df['class'])\n",
    "\n",
    "df_num_cat"
   ]
  },
  {
   "cell_type": "code",
   "execution_count": 53,
   "id": "530b5ad3",
   "metadata": {},
   "outputs": [
    {
     "name": "stdout",
     "output_type": "stream",
     "text": [
      "      buying  maint  doors  persons  lug_boot  safety\n",
      "0          3      3      0        0         2       1\n",
      "1          3      3      0        0         2       2\n",
      "2          3      3      0        0         2       0\n",
      "3          3      3      0        0         1       1\n",
      "4          3      3      0        0         1       2\n",
      "...      ...    ...    ...      ...       ...     ...\n",
      "1723       1      1      3        2         1       2\n",
      "1724       1      1      3        2         1       0\n",
      "1725       1      1      3        2         0       1\n",
      "1726       1      1      3        2         0       2\n",
      "1727       1      1      3        2         0       0\n",
      "\n",
      "[1728 rows x 6 columns]\n",
      "0       2\n",
      "1       2\n",
      "2       2\n",
      "3       2\n",
      "4       2\n",
      "       ..\n",
      "1723    1\n",
      "1724    3\n",
      "1725    2\n",
      "1726    1\n",
      "1727    3\n",
      "Name: class, Length: 1728, dtype: int32\n"
     ]
    }
   ],
   "source": [
    "X = df_num_cat.drop(['class'],axis=1)\n",
    "y = df_num_cat['class']\n",
    "print(X)\n",
    "print(y)"
   ]
  },
  {
   "cell_type": "code",
   "execution_count": 54,
   "id": "97cbbff1",
   "metadata": {},
   "outputs": [],
   "source": [
    "X_train,X_test,y_train,y_test = train_test_split(X,y,test_size = 0.33)"
   ]
  },
  {
   "cell_type": "code",
   "execution_count": 55,
   "id": "98bf4203",
   "metadata": {},
   "outputs": [
    {
     "data": {
      "text/plain": [
       "((1157, 6), (571, 6))"
      ]
     },
     "execution_count": 55,
     "metadata": {},
     "output_type": "execute_result"
    }
   ],
   "source": [
    "X_train.shape,X_test.shape"
   ]
  },
  {
   "cell_type": "code",
   "execution_count": 17,
   "id": "dde0f3aa",
   "metadata": {},
   "outputs": [],
   "source": []
  },
  {
   "cell_type": "code",
   "execution_count": 68,
   "id": "c1012633",
   "metadata": {},
   "outputs": [
    {
     "data": {
      "text/plain": [
       "DecisionTreeClassifier(criterion='entropy', max_depth=3, random_state=0)"
      ]
     },
     "execution_count": 68,
     "metadata": {},
     "output_type": "execute_result"
    }
   ],
   "source": [
    "clf_en = DecisionTreeClassifier(criterion='entropy', max_depth=3, random_state=0)\n",
    "\n",
    "\n",
    "# fit the model\n",
    "clf_en.fit(X_train, y_train)"
   ]
  },
  {
   "cell_type": "code",
   "execution_count": null,
   "id": "1e8deea2",
   "metadata": {},
   "outputs": [],
   "source": []
  },
  {
   "cell_type": "code",
   "execution_count": 69,
   "id": "3ff444af",
   "metadata": {},
   "outputs": [
    {
     "name": "stdout",
     "output_type": "stream",
     "text": [
      "[2 2 2 0 0 2 0 2 0 2 0 2 0 0 2 0 0 2 0 2 0 2 0 2 0 2 2 2 2 2 2 0 0 2 2 2 2\n",
      " 0 0 2 2 2 0 0 0 2 2 0 2 2 0 0 2 0 0 2 0 0 2 2 2 0 0 0 2 2 2 0 2 2 2 2 2 0\n",
      " 0 2 0 2 0 2 2 0 0 0 0 0 2 2 2 2 2 2 2 2 0 2 0 2 2 2 0 2 2 2 2 0 0 2 0 2 2\n",
      " 0 0 2 2 2 2 2 2 2 0 0 0 2 2 0 0 0 2 0 0 2 0 2 2 0 2 0 2 0 2 2 0 0 0 2 2 2\n",
      " 2 0 2 2 2 2 0 2 2 2 0 0 2 0 0 2 0 2 0 0 2 0 2 2 2 0 2 0 2 2 0 2 0 0 0 2 0\n",
      " 2 2 0 0 0 2 0 2 2 0 2 0 0 2 0 0 0 2 2 2 0 2 2 0 2 2 0 0 2 0 2 2 2 2 2 2 0\n",
      " 0 0 2 0 2 2 2 2 0 2 0 2 0 0 2 0 2 0 2 2 2 0 0 2 2 0 2 0 0 0 2 2 0 0 2 2 0\n",
      " 2 2 0 2 0 2 0 2 0 2 2 0 0 2 0 2 0 0 2 0 0 0 2 0 0 0 2 2 0 0 0 0 2 2 2 0 2\n",
      " 2 2 2 2 2 2 2 0 2 0 2 2 2 0 2 2 2 2 0 2 2 2 0 2 0 2 2 2 2 0 0 0 2 2 2 0 2\n",
      " 2 0 0 0 0 0 2 0 2 0 0 2 0 2 0 2 0 2 0 0 2 0 0 2 0 2 2 2 2 0 0 2 2 2 0 0 2\n",
      " 2 2 2 0 0 2 2 2 0 2 2 2 0 2 2 2 2 2 2 0 2 2 2 2 2 2 0 2 2 2 2 2 0 2 0 0 0\n",
      " 2 2 2 2 2 0 0 2 2 0 2 2 2 2 2 0 2 0 0 2 2 2 0 2 2 2 2 2 0 2 0 0 2 2 2 2 2\n",
      " 2 2 2 2 2 2 0 0 2 2 2 2 2 0 0 0 2 2 0 2 0 2 2 0 2 2 0 2 2 0 2 2 0 2 2 0 2\n",
      " 0 2 2 0 0 2 2 0 0 2 2 2 2 0 0 2 2 2 2 2 0 2 2 2 0 2 2 0 2 2 2 0 0 0 2 0 2\n",
      " 0 0 0 2 0 0 2 0 0 2 2 2 2 0 2 2 2 0 0 0 0 0 2 0 2 0 0 2 0 2 2 2 0 0 2 0 2\n",
      " 2 2 0 0 2 2 2 2 0 2 2 0 0 2 2 0]\n"
     ]
    }
   ],
   "source": [
    "y_pred = clf_en.predict(X_test)\n",
    "print(y_pred)"
   ]
  },
  {
   "cell_type": "code",
   "execution_count": 70,
   "id": "52b4de02",
   "metadata": {},
   "outputs": [
    {
     "name": "stdout",
     "output_type": "stream",
     "text": [
      "Accuracy: 0.7530647985989493\n"
     ]
    }
   ],
   "source": [
    "print(\"Accuracy:\",accuracy_score(y_test,y_pred))"
   ]
  },
  {
   "cell_type": "code",
   "execution_count": 74,
   "id": "a1809bb5",
   "metadata": {},
   "outputs": [
    {
     "data": {
      "text/plain": [
       "[Text(0.375, 0.875, 'X[3] <= 0.5\\nentropy = 1.171\\nsamples = 1157\\nvalue = [261, 44, 817, 35]'),\n",
       " Text(0.25, 0.625, 'entropy = 0.0\\nsamples = 390\\nvalue = [0, 0, 390, 0]'),\n",
       " Text(0.5, 0.625, 'X[5] <= 0.5\\nentropy = 1.439\\nsamples = 767\\nvalue = [261, 44, 427, 35]'),\n",
       " Text(0.25, 0.375, 'X[1] <= 2.5\\nentropy = 1.647\\nsamples = 257\\nvalue = [142, 21, 59, 35]'),\n",
       " Text(0.125, 0.125, 'entropy = 1.627\\nsamples = 189\\nvalue = [110, 21, 23, 35]'),\n",
       " Text(0.375, 0.125, 'entropy = 0.998\\nsamples = 68\\nvalue = [32, 0, 36, 0]'),\n",
       " Text(0.75, 0.375, 'X[5] <= 1.5\\nentropy = 1.031\\nsamples = 510\\nvalue = [119, 23, 368, 0]'),\n",
       " Text(0.625, 0.125, 'entropy = 0.0\\nsamples = 263\\nvalue = [0, 0, 263, 0]'),\n",
       " Text(0.875, 0.125, 'entropy = 1.351\\nsamples = 247\\nvalue = [119, 23, 105, 0]')]"
      ]
     },
     "execution_count": 74,
     "metadata": {},
     "output_type": "execute_result"
    },
    {
     "data": {
      "image/png": "[encoded data removed]",
      "text/plain": [
       "<Figure size 432x288 with 1 Axes>"
      ]
     },
     "metadata": {
      "needs_background": "light"
     },
     "output_type": "display_data"
    }
   ],
   "source": [
    "from sklearn import tree\n",
    "tree.plot_tree(clf_en)"
   ]
  },
  {
   "cell_type": "code",
   "execution_count": null,
   "id": "98d45286",
   "metadata": {},
   "outputs": [],
   "source": []
  },
  {
   "cell_type": "code",
   "execution_count": null,
   "id": "5ea227e0",
   "metadata": {},
   "outputs": [],
   "source": []
  },
  {
   "cell_type": "code",
   "execution_count": 80,
   "id": "5dbccd5a",
   "metadata": {},
   "outputs": [
    {
     "name": "stdout",
     "output_type": "stream",
     "text": [
      "Training set score: 0.7934\n",
      "Test set score: 0.7531\n"
     ]
    }
   ],
   "source": [
    "print('Training set score: {:.4f}'.format(clf_en.score(X_train, y_train)))\n",
    "\n",
    "print('Test set score: {:.4f}'.format(clf_en.score(X_test, y_test)))"
   ]
  },
  {
   "cell_type": "code",
   "execution_count": 81,
   "id": "46446407",
   "metadata": {},
   "outputs": [
    {
     "data": {
      "text/plain": [
       "[Text(0.375, 0.875, 'X[3] <= 0.5\\nentropy = 1.171\\nsamples = 1157\\nvalue = [261, 44, 817, 35]'),\n",
       " Text(0.25, 0.625, 'entropy = 0.0\\nsamples = 390\\nvalue = [0, 0, 390, 0]'),\n",
       " Text(0.5, 0.625, 'X[5] <= 0.5\\nentropy = 1.439\\nsamples = 767\\nvalue = [261, 44, 427, 35]'),\n",
       " Text(0.25, 0.375, 'X[1] <= 2.5\\nentropy = 1.647\\nsamples = 257\\nvalue = [142, 21, 59, 35]'),\n",
       " Text(0.125, 0.125, 'entropy = 1.627\\nsamples = 189\\nvalue = [110, 21, 23, 35]'),\n",
       " Text(0.375, 0.125, 'entropy = 0.998\\nsamples = 68\\nvalue = [32, 0, 36, 0]'),\n",
       " Text(0.75, 0.375, 'X[5] <= 1.5\\nentropy = 1.031\\nsamples = 510\\nvalue = [119, 23, 368, 0]'),\n",
       " Text(0.625, 0.125, 'entropy = 0.0\\nsamples = 263\\nvalue = [0, 0, 263, 0]'),\n",
       " Text(0.875, 0.125, 'entropy = 1.351\\nsamples = 247\\nvalue = [119, 23, 105, 0]')]"
      ]
     },
     "execution_count": 81,
     "metadata": {},
     "output_type": "execute_result"
    },
    {
     "data": {
      "image/png": "[encoded data removed]",
      "text/plain": [
       "<Figure size 864x576 with 1 Axes>"
      ]
     },
     "metadata": {
      "needs_background": "light"
     },
     "output_type": "display_data"
    }
   ],
   "source": [
    "plt.figure(figsize=(12,8))\n",
    "\n",
    "from sklearn import tree\n",
    "\n",
    "tree.plot_tree(clf_en.fit(X_train, y_train)) "
   ]
  },
  {
   "cell_type": "code",
   "execution_count": 82,
   "id": "b3de186e",
   "metadata": {},
   "outputs": [],
   "source": [
    "import matplotlib.pyplot as plt "
   ]
  },
  {
   "cell_type": "code",
   "execution_count": 83,
   "id": "2b93d300",
   "metadata": {},
   "outputs": [
    {
     "data": {
      "text/plain": [
       "[Text(0.375, 0.875, 'X[3] <= 0.5\\nentropy = 1.171\\nsamples = 1157\\nvalue = [261, 44, 817, 35]'),\n",
       " Text(0.25, 0.625, 'entropy = 0.0\\nsamples = 390\\nvalue = [0, 0, 390, 0]'),\n",
       " Text(0.5, 0.625, 'X[5] <= 0.5\\nentropy = 1.439\\nsamples = 767\\nvalue = [261, 44, 427, 35]'),\n",
       " Text(0.25, 0.375, 'X[1] <= 2.5\\nentropy = 1.647\\nsamples = 257\\nvalue = [142, 21, 59, 35]'),\n",
       " Text(0.125, 0.125, 'entropy = 1.627\\nsamples = 189\\nvalue = [110, 21, 23, 35]'),\n",
       " Text(0.375, 0.125, 'entropy = 0.998\\nsamples = 68\\nvalue = [32, 0, 36, 0]'),\n",
       " Text(0.75, 0.375, 'X[5] <= 1.5\\nentropy = 1.031\\nsamples = 510\\nvalue = [119, 23, 368, 0]'),\n",
       " Text(0.625, 0.125, 'entropy = 0.0\\nsamples = 263\\nvalue = [0, 0, 263, 0]'),\n",
       " Text(0.875, 0.125, 'entropy = 1.351\\nsamples = 247\\nvalue = [119, 23, 105, 0]')]"
      ]
     },
     "execution_count": 83,
     "metadata": {},
     "output_type": "execute_result"
    },
    {
     "data": {
      "image/png": "[encoded data removed]",
      "text/plain": [
       "<Figure size 864x576 with 1 Axes>"
      ]
     },
     "metadata": {
      "needs_background": "light"
     },
     "output_type": "display_data"
    }
   ],
   "source": [
    "plt.figure(figsize=(12,8))\n",
    "\n",
    "from sklearn import tree\n",
    "\n",
    "tree.plot_tree(clf_en.fit(X_train, y_train)) "
   ]
  },
  {
   "cell_type": "code",
   "execution_count": 86,
   "id": "ef2db87b",
   "metadata": {},
   "outputs": [
    {
     "name": "stdout",
     "output_type": "stream",
     "text": [
      "Confusion matrix\n",
      "\n",
      " [[109   0  14   0]\n",
      " [ 25   0   0   0]\n",
      " [ 72   0 321   0]\n",
      " [ 30   0   0   0]]\n"
     ]
    }
   ],
   "source": [
    "from sklearn.metrics import confusion_matrix\n",
    "\n",
    "cm = confusion_matrix(y_test, y_pred)\n",
    "\n",
    "print('Confusion matrix\\n\\n', cm)"
   ]
  },
  {
   "cell_type": "code",
   "execution_count": null,
   "id": "5fa3f2f9",
   "metadata": {},
   "outputs": [],
   "source": []
  },
  {
   "cell_type": "code",
   "execution_count": 91,
   "id": "ad701b4f",
   "metadata": {},
   "outputs": [
    {
     "name": "stdout",
     "output_type": "stream",
     "text": [
      "              precision    recall  f1-score   support\n",
      "\n",
      "           0       0.46      0.89      0.61       123\n",
      "           1       0.00      0.00      0.00        25\n",
      "           2       0.96      0.82      0.88       393\n",
      "           3       0.00      0.00      0.00        30\n",
      "\n",
      "    accuracy                           0.75       571\n",
      "   macro avg       0.36      0.43      0.37       571\n",
      "weighted avg       0.76      0.75      0.74       571\n",
      "\n"
     ]
    },
    {
     "name": "stderr",
     "output_type": "stream",
     "text": [
      "C:\\Users\\DELL\\AppData\\Local\\Programs\\Python\\Python310\\lib\\site-packages\\sklearn\\metrics\\_classification.py:1318: UndefinedMetricWarning: Precision and F-score are ill-defined and being set to 0.0 in labels with no predicted samples. Use `zero_division` parameter to control this behavior.\n",
      "  _warn_prf(average, modifier, msg_start, len(result))\n",
      "C:\\Users\\DELL\\AppData\\Local\\Programs\\Python\\Python310\\lib\\site-packages\\sklearn\\metrics\\_classification.py:1318: UndefinedMetricWarning: Precision and F-score are ill-defined and being set to 0.0 in labels with no predicted samples. Use `zero_division` parameter to control this behavior.\n",
      "  _warn_prf(average, modifier, msg_start, len(result))\n",
      "C:\\Users\\DELL\\AppData\\Local\\Programs\\Python\\Python310\\lib\\site-packages\\sklearn\\metrics\\_classification.py:1318: UndefinedMetricWarning: Precision and F-score are ill-defined and being set to 0.0 in labels with no predicted samples. Use `zero_division` parameter to control this behavior.\n",
      "  _warn_prf(average, modifier, msg_start, len(result))\n"
     ]
    }
   ],
   "source": [
    "from sklearn.metrics import classification_report\n",
    "\n",
    "print(classification_report(y_test, y_pred))"
   ]
  },
  {
   "cell_type": "code",
   "execution_count": 92,
   "id": "d4595756",
   "metadata": {},
   "outputs": [
    {
     "name": "stdout",
     "output_type": "stream",
     "text": [
      "              precision    recall  f1-score   support\n",
      "\n",
      "           0       0.56      0.12      0.20       123\n",
      "           1       0.00      0.00      0.00        25\n",
      "           2       0.85      0.80      0.82       393\n",
      "           3       0.17      1.00      0.29        30\n",
      "\n",
      "    accuracy                           0.63       571\n",
      "   macro avg       0.39      0.48      0.33       571\n",
      "weighted avg       0.71      0.63      0.62       571\n",
      "\n",
      "[[ 15   0  46  62]\n",
      " [  6   0  10   9]\n",
      " [  6   0 313  74]\n",
      " [  0   0   0  30]]\n",
      "Gaussian Naive Bayes accuracy is: 62.70%\n"
     ]
    },
    {
     "name": "stderr",
     "output_type": "stream",
     "text": [
      "C:\\Users\\DELL\\AppData\\Local\\Programs\\Python\\Python310\\lib\\site-packages\\sklearn\\metrics\\_classification.py:1318: UndefinedMetricWarning: Precision and F-score are ill-defined and being set to 0.0 in labels with no predicted samples. Use `zero_division` parameter to control this behavior.\n",
      "  _warn_prf(average, modifier, msg_start, len(result))\n",
      "C:\\Users\\DELL\\AppData\\Local\\Programs\\Python\\Python310\\lib\\site-packages\\sklearn\\metrics\\_classification.py:1318: UndefinedMetricWarning: Precision and F-score are ill-defined and being set to 0.0 in labels with no predicted samples. Use `zero_division` parameter to control this behavior.\n",
      "  _warn_prf(average, modifier, msg_start, len(result))\n",
      "C:\\Users\\DELL\\AppData\\Local\\Programs\\Python\\Python310\\lib\\site-packages\\sklearn\\metrics\\_classification.py:1318: UndefinedMetricWarning: Precision and F-score are ill-defined and being set to 0.0 in labels with no predicted samples. Use `zero_division` parameter to control this behavior.\n",
      "  _warn_prf(average, modifier, msg_start, len(result))\n"
     ]
    }
   ],
   "source": [
    "from sklearn.naive_bayes import GaussianNB\n",
    "NBclassifier2 = GaussianNB()\n",
    "NBclassifier2.fit(X_train, y_train)\n",
    "\n",
    "y_pred = NBclassifier2.predict(X_test)\n",
    "\n",
    "print(classification_report(y_test, y_pred))\n",
    "print(confusion_matrix(y_test, y_pred))\n",
    "\n",
    "from sklearn.metrics import accuracy_score\n",
    "NBAcc2 = accuracy_score(y_pred,y_test)\n",
    "print('Gaussian Naive Bayes accuracy is: {:.2f}%'.format(NBAcc2*100))"
   ]
  },
  {
   "cell_type": "code",
   "execution_count": null,
   "id": "398744ec",
   "metadata": {},
   "outputs": [],
   "source": []
  }
 ],
 "metadata": {
  "kernelspec": {
   "display_name": "Python 3 (ipykernel)",
   "language": "python",
   "name": "python3"
  },
  "language_info": {
   "codemirror_mode": {
    "name": "ipython",
    "version": 3
   },
   "file_extension": ".py",
   "mimetype": "text/x-python",
   "name": "python",
   "nbconvert_exporter": "python",
   "pygments_lexer": "ipython3",
   "version": "3.10.4"
  }
 },
 "nbformat": 4,
 "nbformat_minor": 5
}
